{
 "cells": [
  {
   "cell_type": "code",
   "execution_count": 1,
   "id": "c348619f-16e3-4be0-8441-608e90327108",
   "metadata": {},
   "outputs": [],
   "source": [
    "import pandas as pd"
   ]
  },
  {
   "cell_type": "code",
   "execution_count": 2,
   "id": "d74c8a64-8321-4a39-b264-116bafde9056",
   "metadata": {},
   "outputs": [
    {
     "data": {
      "text/html": [
       "<div>\n",
       "<style scoped>\n",
       "    .dataframe tbody tr th:only-of-type {\n",
       "        vertical-align: middle;\n",
       "    }\n",
       "\n",
       "    .dataframe tbody tr th {\n",
       "        vertical-align: top;\n",
       "    }\n",
       "\n",
       "    .dataframe thead th {\n",
       "        text-align: right;\n",
       "    }\n",
       "</style>\n",
       "<table border=\"1\" class=\"dataframe\">\n",
       "  <thead>\n",
       "    <tr style=\"text-align: right;\">\n",
       "      <th></th>\n",
       "      <th>UserID</th>\n",
       "      <th>ChargerID</th>\n",
       "      <th>ChargerCompany</th>\n",
       "      <th>Location</th>\n",
       "      <th>ChargerType</th>\n",
       "      <th>StartDay</th>\n",
       "      <th>StartTime</th>\n",
       "      <th>EndDay</th>\n",
       "      <th>EndTime</th>\n",
       "      <th>StartDatetime</th>\n",
       "      <th>EndDatetime</th>\n",
       "      <th>Duration</th>\n",
       "      <th>Demand</th>\n",
       "    </tr>\n",
       "  </thead>\n",
       "  <tbody>\n",
       "    <tr>\n",
       "      <th>0</th>\n",
       "      <td>0</td>\n",
       "      <td>1</td>\n",
       "      <td>1</td>\n",
       "      <td>hotel</td>\n",
       "      <td>0</td>\n",
       "      <td>2022-09-15</td>\n",
       "      <td>20:54:02</td>\n",
       "      <td>2022-09-15</td>\n",
       "      <td>23:59:13</td>\n",
       "      <td>2022-09-15 20:54</td>\n",
       "      <td>2022-09-15 23:59</td>\n",
       "      <td>185</td>\n",
       "      <td>20.36</td>\n",
       "    </tr>\n",
       "    <tr>\n",
       "      <th>1</th>\n",
       "      <td>0</td>\n",
       "      <td>1</td>\n",
       "      <td>1</td>\n",
       "      <td>hotel</td>\n",
       "      <td>0</td>\n",
       "      <td>2022-09-14</td>\n",
       "      <td>20:01:05</td>\n",
       "      <td>2022-09-14</td>\n",
       "      <td>21:31:04</td>\n",
       "      <td>2022-09-14 20:01</td>\n",
       "      <td>2022-09-14 21:31</td>\n",
       "      <td>90</td>\n",
       "      <td>10.19</td>\n",
       "    </tr>\n",
       "    <tr>\n",
       "      <th>2</th>\n",
       "      <td>0</td>\n",
       "      <td>1</td>\n",
       "      <td>1</td>\n",
       "      <td>hotel</td>\n",
       "      <td>0</td>\n",
       "      <td>2022-09-14</td>\n",
       "      <td>18:54:30</td>\n",
       "      <td>2022-09-14</td>\n",
       "      <td>19:54:29</td>\n",
       "      <td>2022-09-14 18:54</td>\n",
       "      <td>2022-09-14 19:54</td>\n",
       "      <td>60</td>\n",
       "      <td>6.78</td>\n",
       "    </tr>\n",
       "    <tr>\n",
       "      <th>3</th>\n",
       "      <td>0</td>\n",
       "      <td>1</td>\n",
       "      <td>1</td>\n",
       "      <td>hotel</td>\n",
       "      <td>0</td>\n",
       "      <td>2022-09-29</td>\n",
       "      <td>18:32:51</td>\n",
       "      <td>2022-09-30</td>\n",
       "      <td>0:16:42</td>\n",
       "      <td>2022-09-29 18:32</td>\n",
       "      <td>2022-09-30 0:16</td>\n",
       "      <td>344</td>\n",
       "      <td>37.65</td>\n",
       "    </tr>\n",
       "    <tr>\n",
       "      <th>4</th>\n",
       "      <td>0</td>\n",
       "      <td>1</td>\n",
       "      <td>1</td>\n",
       "      <td>hotel</td>\n",
       "      <td>0</td>\n",
       "      <td>2022-09-25</td>\n",
       "      <td>19:30:15</td>\n",
       "      <td>2022-09-26</td>\n",
       "      <td>0:30:14</td>\n",
       "      <td>2022-09-25 19:30</td>\n",
       "      <td>2022-09-26 0:30</td>\n",
       "      <td>300</td>\n",
       "      <td>33.81</td>\n",
       "    </tr>\n",
       "    <tr>\n",
       "      <th>5</th>\n",
       "      <td>0</td>\n",
       "      <td>1</td>\n",
       "      <td>1</td>\n",
       "      <td>hotel</td>\n",
       "      <td>0</td>\n",
       "      <td>2022-09-24</td>\n",
       "      <td>14:51:16</td>\n",
       "      <td>2022-09-24</td>\n",
       "      <td>16:01:15</td>\n",
       "      <td>2022-09-24 14:51</td>\n",
       "      <td>2022-09-24 16:01</td>\n",
       "      <td>70</td>\n",
       "      <td>8.17</td>\n",
       "    </tr>\n",
       "    <tr>\n",
       "      <th>6</th>\n",
       "      <td>0</td>\n",
       "      <td>1</td>\n",
       "      <td>1</td>\n",
       "      <td>hotel</td>\n",
       "      <td>0</td>\n",
       "      <td>2022-08-11</td>\n",
       "      <td>18:28:42</td>\n",
       "      <td>2022-08-11</td>\n",
       "      <td>19:28:41</td>\n",
       "      <td>2022-08-11 18:28</td>\n",
       "      <td>2022-08-11 19:28</td>\n",
       "      <td>60</td>\n",
       "      <td>6.38</td>\n",
       "    </tr>\n",
       "    <tr>\n",
       "      <th>7</th>\n",
       "      <td>0</td>\n",
       "      <td>1</td>\n",
       "      <td>1</td>\n",
       "      <td>hotel</td>\n",
       "      <td>0</td>\n",
       "      <td>2022-08-10</td>\n",
       "      <td>19:37:54</td>\n",
       "      <td>2022-08-11</td>\n",
       "      <td>3:51:56</td>\n",
       "      <td>2022-08-10 19:37</td>\n",
       "      <td>2022-08-11 3:51</td>\n",
       "      <td>494</td>\n",
       "      <td>55.17</td>\n",
       "    </tr>\n",
       "    <tr>\n",
       "      <th>8</th>\n",
       "      <td>0</td>\n",
       "      <td>1</td>\n",
       "      <td>1</td>\n",
       "      <td>hotel</td>\n",
       "      <td>0</td>\n",
       "      <td>2022-08-09</td>\n",
       "      <td>19:43:27</td>\n",
       "      <td>2022-08-09</td>\n",
       "      <td>20:43:26</td>\n",
       "      <td>2022-08-09 19:43</td>\n",
       "      <td>2022-08-09 20:43</td>\n",
       "      <td>60</td>\n",
       "      <td>6.68</td>\n",
       "    </tr>\n",
       "    <tr>\n",
       "      <th>9</th>\n",
       "      <td>0</td>\n",
       "      <td>1</td>\n",
       "      <td>1</td>\n",
       "      <td>hotel</td>\n",
       "      <td>0</td>\n",
       "      <td>2022-08-07</td>\n",
       "      <td>19:51:01</td>\n",
       "      <td>2022-08-07</td>\n",
       "      <td>21:43:17</td>\n",
       "      <td>2022-08-07 19:51</td>\n",
       "      <td>2022-08-07 21:43</td>\n",
       "      <td>112</td>\n",
       "      <td>12.57</td>\n",
       "    </tr>\n",
       "  </tbody>\n",
       "</table>\n",
       "</div>"
      ],
      "text/plain": [
       "   UserID  ChargerID  ChargerCompany Location  ChargerType    StartDay  \\\n",
       "0       0          1               1    hotel            0  2022-09-15   \n",
       "1       0          1               1    hotel            0  2022-09-14   \n",
       "2       0          1               1    hotel            0  2022-09-14   \n",
       "3       0          1               1    hotel            0  2022-09-29   \n",
       "4       0          1               1    hotel            0  2022-09-25   \n",
       "5       0          1               1    hotel            0  2022-09-24   \n",
       "6       0          1               1    hotel            0  2022-08-11   \n",
       "7       0          1               1    hotel            0  2022-08-10   \n",
       "8       0          1               1    hotel            0  2022-08-09   \n",
       "9       0          1               1    hotel            0  2022-08-07   \n",
       "\n",
       "  StartTime      EndDay   EndTime     StartDatetime       EndDatetime  \\\n",
       "0  20:54:02  2022-09-15  23:59:13  2022-09-15 20:54  2022-09-15 23:59   \n",
       "1  20:01:05  2022-09-14  21:31:04  2022-09-14 20:01  2022-09-14 21:31   \n",
       "2  18:54:30  2022-09-14  19:54:29  2022-09-14 18:54  2022-09-14 19:54   \n",
       "3  18:32:51  2022-09-30   0:16:42  2022-09-29 18:32   2022-09-30 0:16   \n",
       "4  19:30:15  2022-09-26   0:30:14  2022-09-25 19:30   2022-09-26 0:30   \n",
       "5  14:51:16  2022-09-24  16:01:15  2022-09-24 14:51  2022-09-24 16:01   \n",
       "6  18:28:42  2022-08-11  19:28:41  2022-08-11 18:28  2022-08-11 19:28   \n",
       "7  19:37:54  2022-08-11   3:51:56  2022-08-10 19:37   2022-08-11 3:51   \n",
       "8  19:43:27  2022-08-09  20:43:26  2022-08-09 19:43  2022-08-09 20:43   \n",
       "9  19:51:01  2022-08-07  21:43:17  2022-08-07 19:51  2022-08-07 21:43   \n",
       "\n",
       "   Duration  Demand  \n",
       "0       185   20.36  \n",
       "1        90   10.19  \n",
       "2        60    6.78  \n",
       "3       344   37.65  \n",
       "4       300   33.81  \n",
       "5        70    8.17  \n",
       "6        60    6.38  \n",
       "7       494   55.17  \n",
       "8        60    6.68  \n",
       "9       112   12.57  "
      ]
     },
     "execution_count": 2,
     "metadata": {},
     "output_type": "execute_result"
    }
   ],
   "source": [
    "raw_df = pd.read_csv(\"ChargingRecords.csv\")\n",
    "raw_df.head(10)"
   ]
  },
  {
   "cell_type": "code",
   "execution_count": 3,
   "id": "7e09d9ca-e7a4-4b29-992e-7d2ed48ca9a6",
   "metadata": {},
   "outputs": [
    {
     "data": {
      "text/plain": [
       "UserID            0\n",
       "ChargerID         0\n",
       "ChargerCompany    0\n",
       "Location          0\n",
       "ChargerType       0\n",
       "StartDay          0\n",
       "StartTime         0\n",
       "EndDay            0\n",
       "EndTime           0\n",
       "StartDatetime     0\n",
       "EndDatetime       0\n",
       "Duration          0\n",
       "Demand            0\n",
       "dtype: int64"
      ]
     },
     "execution_count": 3,
     "metadata": {},
     "output_type": "execute_result"
    }
   ],
   "source": [
    "raw_df.isnull().sum()"
   ]
  },
  {
   "cell_type": "code",
   "execution_count": 4,
   "id": "5e7b6d48-d631-4261-907d-fac0768435eb",
   "metadata": {},
   "outputs": [
    {
     "name": "stdout",
     "output_type": "stream",
     "text": [
      "<class 'pandas.core.frame.DataFrame'>\n",
      "RangeIndex: 72856 entries, 0 to 72855\n",
      "Data columns (total 13 columns):\n",
      " #   Column          Non-Null Count  Dtype  \n",
      "---  ------          --------------  -----  \n",
      " 0   UserID          72856 non-null  int64  \n",
      " 1   ChargerID       72856 non-null  int64  \n",
      " 2   ChargerCompany  72856 non-null  int64  \n",
      " 3   Location        72856 non-null  object \n",
      " 4   ChargerType     72856 non-null  int64  \n",
      " 5   StartDay        72856 non-null  object \n",
      " 6   StartTime       72856 non-null  object \n",
      " 7   EndDay          72856 non-null  object \n",
      " 8   EndTime         72856 non-null  object \n",
      " 9   StartDatetime   72856 non-null  object \n",
      " 10  EndDatetime     72856 non-null  object \n",
      " 11  Duration        72856 non-null  int64  \n",
      " 12  Demand          72856 non-null  float64\n",
      "dtypes: float64(1), int64(5), object(7)\n",
      "memory usage: 7.2+ MB\n"
     ]
    }
   ],
   "source": [
    "raw_df.info()"
   ]
  },
  {
   "cell_type": "code",
   "execution_count": 5,
   "id": "5d646878-4633-4039-b9b7-07823f493abe",
   "metadata": {},
   "outputs": [
    {
     "data": {
      "text/plain": [
       "0        2022-09-15 20:54\n",
       "1        2022-09-14 20:01\n",
       "2        2022-09-14 18:54\n",
       "3        2022-09-29 18:32\n",
       "4        2022-09-25 19:30\n",
       "               ...       \n",
       "72851     2022-01-27 9:54\n",
       "72852    2021-10-31 14:52\n",
       "72853    2021-10-03 13:52\n",
       "72854    2021-11-18 11:37\n",
       "72855    2021-10-30 17:29\n",
       "Name: StartDatetime, Length: 72856, dtype: object"
      ]
     },
     "execution_count": 5,
     "metadata": {},
     "output_type": "execute_result"
    }
   ],
   "source": [
    "raw_df[\"StartDatetime\"]"
   ]
  },
  {
   "cell_type": "code",
   "execution_count": 6,
   "id": "f38f7b14-7606-4dbf-b81d-6ef15515f309",
   "metadata": {},
   "outputs": [],
   "source": [
    "raw_df[\"StartDatetime\"] = pd.to_datetime(raw_df[\"StartDatetime\"], format='%Y-%m-%d %H:%M',)"
   ]
  },
  {
   "cell_type": "code",
   "execution_count": 7,
   "id": "0069d923-63de-4dc2-85c5-08e0749cf0a8",
   "metadata": {},
   "outputs": [
    {
     "data": {
      "text/plain": [
       "0       2022-09-15 20:54:00\n",
       "1       2022-09-14 20:01:00\n",
       "2       2022-09-14 18:54:00\n",
       "3       2022-09-29 18:32:00\n",
       "4       2022-09-25 19:30:00\n",
       "                ...        \n",
       "72851   2022-01-27 09:54:00\n",
       "72852   2021-10-31 14:52:00\n",
       "72853   2021-10-03 13:52:00\n",
       "72854   2021-11-18 11:37:00\n",
       "72855   2021-10-30 17:29:00\n",
       "Name: StartDatetime, Length: 72856, dtype: datetime64[ns]"
      ]
     },
     "execution_count": 7,
     "metadata": {},
     "output_type": "execute_result"
    }
   ],
   "source": [
    "raw_df[\"StartDatetime\"]"
   ]
  },
  {
   "cell_type": "code",
   "execution_count": 8,
   "id": "51f0eb50-20dc-4fd5-b1c4-4506943bf112",
   "metadata": {},
   "outputs": [
    {
     "data": {
      "text/plain": [
       "0       2022-09-15 23:59:00\n",
       "1       2022-09-14 21:31:00\n",
       "2       2022-09-14 19:54:00\n",
       "3       2022-09-30 00:16:00\n",
       "4       2022-09-26 00:30:00\n",
       "                ...        \n",
       "72851   2022-01-27 09:58:00\n",
       "72852   2021-10-31 15:20:00\n",
       "72853   2021-10-03 14:32:00\n",
       "72854   2021-11-18 11:45:00\n",
       "72855   2021-10-30 17:36:00\n",
       "Name: EndDatetime, Length: 72856, dtype: datetime64[ns]"
      ]
     },
     "execution_count": 8,
     "metadata": {},
     "output_type": "execute_result"
    }
   ],
   "source": [
    "raw_df[\"EndDatetime\"] = pd.to_datetime(raw_df[\"EndDatetime\"], format='%Y-%m-%d %H:%M')\n",
    "raw_df[\"EndDatetime\"]"
   ]
  },
  {
   "cell_type": "code",
   "execution_count": 9,
   "id": "1f99951c-7295-4083-a997-f6ea4cd8c1d2",
   "metadata": {},
   "outputs": [
    {
     "data": {
      "text/plain": [
       "Location\n",
       "public area           14082\n",
       "apartment             14038\n",
       "resort                 8854\n",
       "hotel                  8600\n",
       "company                7558\n",
       "public institution     7023\n",
       "public parking lot     3396\n",
       "market                 3005\n",
       "restaurant             2222\n",
       "camping                1630\n",
       "sightseeing            1203\n",
       "golf                   1029\n",
       "accommodation           187\n",
       "bus garage               29\n",
       "Name: count, dtype: int64"
      ]
     },
     "execution_count": 9,
     "metadata": {},
     "output_type": "execute_result"
    }
   ],
   "source": [
    "raw_df[\"Location\"].value_counts()"
   ]
  },
  {
   "cell_type": "code",
   "execution_count": null,
   "id": "aaa2cef0-f24e-4bc6-ba74-6963cabbefc2",
   "metadata": {},
   "outputs": [],
   "source": []
  },
  {
   "cell_type": "code",
   "execution_count": null,
   "id": "a6793b7d-af36-4f87-b7e3-6b9446c25724",
   "metadata": {},
   "outputs": [],
   "source": []
  }
 ],
 "metadata": {
  "kernelspec": {
   "display_name": "GPU_Kaveh",
   "language": "python",
   "name": "gpu_kaveh"
  },
  "language_info": {
   "codemirror_mode": {
    "name": "ipython",
    "version": 3
   },
   "file_extension": ".py",
   "mimetype": "text/x-python",
   "name": "python",
   "nbconvert_exporter": "python",
   "pygments_lexer": "ipython3",
   "version": "3.12.2"
  }
 },
 "nbformat": 4,
 "nbformat_minor": 5
}
